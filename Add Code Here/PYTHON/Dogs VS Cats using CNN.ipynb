{
 "cells": [
  {
   "cell_type": "code",
   "execution_count": 1,
   "id": "5fa0c706",
   "metadata": {},
   "outputs": [],
   "source": [
    "#import Libraries\n",
    "import tensorflow as tf"
   ]
  },
  {
   "cell_type": "code",
   "execution_count": 2,
   "id": "6fad0cff",
   "metadata": {},
   "outputs": [],
   "source": [
    "from keras.preprocessing.image import ImageDataGenerator"
   ]
  },
  {
   "cell_type": "code",
   "execution_count": 3,
   "id": "877b06bd",
   "metadata": {},
   "outputs": [
    {
     "name": "stdout",
     "output_type": "stream",
     "text": [
      "Found 8005 images belonging to 1 classes.\n"
     ]
    }
   ],
   "source": [
    "#Data preprocessing\n",
    "train_datagen = ImageDataGenerator(\n",
    "        rescale=1./255,\n",
    "        shear_range=0.2, #Float. Shear Intensity (Shear angle in counter-clockwise direction in degrees)\n",
    "        zoom_range=0.2,  \n",
    "        horizontal_flip=True) #boolean format - randomly flip inputs horizontally\n",
    "\n",
    "train_generator = train_datagen.flow_from_directory(\n",
    "        'dataset/training_set',\n",
    "        target_size=(64, 64),\n",
    "        batch_size=32,\n",
    "        class_mode='binary')"
   ]
  },
  {
   "cell_type": "code",
   "execution_count": 4,
   "id": "15eb44b0",
   "metadata": {},
   "outputs": [
    {
     "name": "stdout",
     "output_type": "stream",
     "text": [
      "Found 2023 images belonging to 1 classes.\n"
     ]
    }
   ],
   "source": [
    "test_datagen = ImageDataGenerator(rescale=1./255)\n",
    "validation_generator = test_datagen.flow_from_directory(\n",
    "        'dataset/test_set',\n",
    "        target_size=(64, 64),\n",
    "        batch_size=32,\n",
    "        class_mode='binary')"
   ]
  },
  {
   "cell_type": "code",
   "execution_count": 5,
   "id": "8b81fd61",
   "metadata": {},
   "outputs": [],
   "source": [
    "#Build CNN Model (convoltion neural network)\n",
    "#initialize\n",
    "cnn = tf.keras.models.Sequential()"
   ]
  },
  {
   "cell_type": "code",
   "execution_count": 6,
   "id": "98898f4e",
   "metadata": {},
   "outputs": [],
   "source": [
    "#Convolution - simple application of a filter to an input to reasult in an activation\n",
    "cnn.add(tf.keras.layers.Conv2D(filters =32, kernel_size = 3,activation = 'relu',\n",
    "                              input_shape =[64, 64,3])) #rectified linear activation function"
   ]
  },
  {
   "cell_type": "code",
   "execution_count": 7,
   "id": "d64e540e",
   "metadata": {},
   "outputs": [],
   "source": [
    "#pooling - used to reduced the dimensions of feature map by using max\n",
    "cnn.add(tf.keras.layers.MaxPool2D(pool_size = 2, strides = 2))"
   ]
  },
  {
   "cell_type": "code",
   "execution_count": 8,
   "id": "6da470d6",
   "metadata": {},
   "outputs": [],
   "source": [
    "#Add 1 more layer\n",
    "cnn.add(tf.keras.layers.Conv2D(filters =32, kernel_size = 3,activation = 'relu'))\n",
    "\n",
    "cnn.add(tf.keras.layers.MaxPool2D(pool_size = 2, strides = 2))"
   ]
  },
  {
   "cell_type": "code",
   "execution_count": 9,
   "id": "fc4238ea",
   "metadata": {},
   "outputs": [],
   "source": [
    "#flattening - Flattening is converting the data into a 1-dimensional array for inputting it to the next layer\n",
    "cnn.add(tf.keras.layers.Flatten())"
   ]
  },
  {
   "cell_type": "code",
   "execution_count": 10,
   "id": "8f1f7a74",
   "metadata": {},
   "outputs": [],
   "source": [
    "#full Connection - conneting all dimensions\n",
    "cnn.add(tf.keras.layers.Dense(units = 128, activation = 'relu'))"
   ]
  },
  {
   "cell_type": "code",
   "execution_count": 11,
   "id": "6e89c075",
   "metadata": {},
   "outputs": [],
   "source": [
    "#output layer\n",
    "cnn.add(tf.keras.layers.Dense(units = 1, activation = 'sigmoid'))"
   ]
  },
  {
   "cell_type": "code",
   "execution_count": 12,
   "id": "919f2365",
   "metadata": {},
   "outputs": [],
   "source": [
    "#compile the model\n",
    "cnn.compile(optimizer = 'adam',loss = 'binary_crossentropy', metrics=['accuracy'])"
   ]
  },
  {
   "cell_type": "code",
   "execution_count": 13,
   "id": "0f92e653",
   "metadata": {},
   "outputs": [
    {
     "name": "stdout",
     "output_type": "stream",
     "text": [
      "Epoch 1/5\n",
      "251/251 [==============================] - 235s 922ms/step - loss: 0.0029 - accuracy: 0.9995 - val_loss: 6.2849e-15 - val_accuracy: 1.0000\n",
      "Epoch 2/5\n",
      "251/251 [==============================] - 63s 252ms/step - loss: 7.0558e-12 - accuracy: 1.0000 - val_loss: 6.2848e-15 - val_accuracy: 1.0000\n",
      "Epoch 3/5\n",
      "251/251 [==============================] - 59s 233ms/step - loss: 7.1443e-12 - accuracy: 1.0000 - val_loss: 6.2844e-15 - val_accuracy: 1.0000\n",
      "Epoch 4/5\n",
      "251/251 [==============================] - 53s 212ms/step - loss: 2.3268e-11 - accuracy: 1.0000 - val_loss: 6.2833e-15 - val_accuracy: 1.0000\n",
      "Epoch 5/5\n",
      "251/251 [==============================] - 54s 214ms/step - loss: 3.7150e-12 - accuracy: 1.0000 - val_loss: 6.2831e-15 - val_accuracy: 1.0000\n"
     ]
    }
   ],
   "source": [
    "#train the model\n",
    "history = cnn.fit(x = train_generator, validation_data = validation_generator, epochs = 5)"
   ]
  },
  {
   "cell_type": "code",
   "execution_count": 14,
   "id": "987c26e6",
   "metadata": {},
   "outputs": [],
   "source": [
    "#make single prediction\n",
    "import numpy as np\n",
    "from keras.preprocessing import image\n",
    "test_image = image.load_img(\"dataset/single_prediction/predict2.jpg\", target_size =(64,64))\n",
    "test_image = image.img_to_array(test_image)\n",
    "test_image = np.expand_dims(test_image,axis = 0)\n",
    "result = cnn.predict(test_image)\n",
    "train_generator.class_indices\n",
    "if result[0][0] == 1:\n",
    "    prediction = 'cat'\n",
    "else:\n",
    "    prediction = 'dog'"
   ]
  },
  {
   "cell_type": "code",
   "execution_count": 15,
   "id": "a698bdc6",
   "metadata": {},
   "outputs": [
    {
     "data": {
      "text/plain": [
       "'dog'"
      ]
     },
     "execution_count": 15,
     "metadata": {},
     "output_type": "execute_result"
    }
   ],
   "source": [
    "prediction"
   ]
  },
  {
   "cell_type": "code",
   "execution_count": 16,
   "id": "0d79744d",
   "metadata": {},
   "outputs": [],
   "source": [
    "#make single prediction\n",
    "import numpy as np\n",
    "from keras.preprocessing import image\n",
    "test_image = image.load_img(\"dataset/single_prediction/predict1.jpg\", target_size =(64,64))\n",
    "test_image = image.img_to_array(test_image)\n",
    "test_image = np.expand_dims(test_image,axis = 0)\n",
    "result = cnn.predict(test_image)\n",
    "train_generator.class_indices\n",
    "if result[0][0] == 1:\n",
    "    prediction = 'dog'\n",
    "else:\n",
    "    prediction = 'cat'"
   ]
  },
  {
   "cell_type": "code",
   "execution_count": 17,
   "id": "f417e984",
   "metadata": {},
   "outputs": [
    {
     "data": {
      "text/plain": [
       "'cat'"
      ]
     },
     "execution_count": 17,
     "metadata": {},
     "output_type": "execute_result"
    }
   ],
   "source": [
    "prediction"
   ]
  },
  {
   "cell_type": "code",
   "execution_count": null,
   "id": "2c3ba8dd",
   "metadata": {},
   "outputs": [],
   "source": []
  }
 ],
 "metadata": {
  "kernelspec": {
   "display_name": "Python 3 (ipykernel)",
   "language": "python",
   "name": "python3"
  },
  "language_info": {
   "codemirror_mode": {
    "name": "ipython",
    "version": 3
   },
   "file_extension": ".py",
   "mimetype": "text/x-python",
   "name": "python",
   "nbconvert_exporter": "python",
   "pygments_lexer": "ipython3",
   "version": "3.8.10"
  }
 },
 "nbformat": 4,
 "nbformat_minor": 5
}
